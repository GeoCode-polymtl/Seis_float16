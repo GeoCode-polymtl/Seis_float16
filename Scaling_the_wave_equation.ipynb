{
 "cells": [
  {
   "cell_type": "markdown",
   "metadata": {},
   "source": [
    "# Scaling the wave equation\n",
    "\n",
    "Solving elastic wave equation in FP16 precision requires scaling the wave equation. In this notebook, we derive the scaling approach explained in the article, and verify it numerically. "
   ]
  },
  {
   "cell_type": "markdown",
   "metadata": {},
   "source": [
    "## Derivation\n",
    "\n",
    "The elastic wave equation is:\n",
    "$$\n",
    "\\begin{align}\n",
    "&\\partial_t v_i- \\frac{1}{\\rho}\\partial_j \\sigma_{ij} =f_i, \\\\\n",
    "&\\partial_t \\sigma_{ij}- (M+2\\mu) \\partial_k v_k \\delta_{ij} - \\mu( \\partial_j v_i + \\partial_i v_j) =s_{ij}.\n",
    "\\end{align}\n",
    "$$"
   ]
  },
  {
   "cell_type": "markdown",
   "metadata": {},
   "source": [
    "Multiplying the stress equation by $2^{e_v}$:\n",
    "$$\n",
    "\\begin{align}\n",
    "&\\partial_t v_i- \\frac{1}{\\rho}2^{-e_v}2^{e_v}\\partial_j \\sigma_{ij} =f_i, \\\\\n",
    "&2^{e_v}\\partial_t \\sigma_{ij}- 2^{e_v}(M+2\\mu) \\partial_k v_k \\delta_{ij} - 2^{e_v}\\mu( \\partial_j v_i + \\partial_i v_j) =2^{e_v}s_{ij}.\n",
    "\\end{align}\n",
    "$$"
   ]
  },
  {
   "cell_type": "markdown",
   "metadata": {},
   "source": [
    "Defining $\\sigma'=2^{e_v}\\sigma$, $M'=2^{e_v}M$, $\\mu'=2^{e_v}\\mu$, $1/\\rho'=1/\\rho2^{-e_v}$:\n",
    "\n",
    "$$\n",
    "\\begin{align}\n",
    "&\\partial_t v_i- \\frac{1}{\\rho'}\\partial_j \\sigma'_{ij} =f_i, \\\\\n",
    "&\\partial_t \\sigma'_{ij}- (M'+2\\mu') \\partial_k v_k \\delta_{ij} - \\mu'( \\partial_j v_i + \\partial_i v_j) =2^{e_v}s_{ij}.\n",
    "\\end{align}\n",
    "$$"
   ]
  },
  {
   "cell_type": "markdown",
   "metadata": {},
   "source": [
    "Multiplying all equations by $2^{-e_v}2^{e_s}$:\n",
    "\n",
    "$$\n",
    "\\begin{align}\n",
    "&\\partial_t 2^{-e_v}2^{e_s}v_i- \\frac{1}{\\rho'}\\partial_j 2^{-e_v}2^{e_s}\\sigma'_{ij} =2^{-e_v}2^{e_s}f_i, \\\\\n",
    "&\\partial_t 2^{-e_v}2^{e_s}\\sigma'_{ij}- (M'+2\\mu') \\partial_k 2^{-e_v}2^{e_s}v_k \\delta_{ij} - \\mu'( \\partial_j 2^{-e_v}2^{e_s}v_i + \\partial_i 2^{-e_v}2^{e_s}v_j) =2^{e_s}s_{ij}.\n",
    "\\end{align}\n",
    "$$"
   ]
  },
  {
   "cell_type": "markdown",
   "metadata": {},
   "source": [
    "Defining $\\sigma''=2^{-e_v}2^{e_s}\\sigma'$, $v''=2^{-e_v}2^{e_s}v$, $s'' = 2^{e_s}s$, $f_i'' = 2^{-e_v}2^{e_s}f_i$:\n",
    "\n",
    "$$\n",
    "\\begin{align}\n",
    "&\\partial_t v''_i- \\frac{1}{\\rho'}\\partial_j \\sigma''_{ij} =f_i'', \\\\\n",
    "&\\partial_t \\sigma''_{ij}- (M'+2\\mu') \\partial_k v''_k \\delta_{ij} - \\mu'( \\partial_j v''_i + \\partial_iv''_j) =s''_{ij}.\n",
    "\\end{align}\n",
    "$$"
   ]
  },
  {
   "cell_type": "markdown",
   "metadata": {},
   "source": [
    "The last equation can be solved numericaly. The solution to the initial unscaled PDE can be recovered by the following transformations:\n",
    "\n",
    "$$\n",
    "\\begin{align}\n",
    "\\sigma_{ij} &= 2^{-e_v}\\sigma_{ij}' = 2^{-e_v}2^{e_v}2^{-e_s}\\sigma_{ij}'' \\\\\n",
    "&=  2^{-e_s}\\sigma_{ij}''\\\\\n",
    "v_i &= 2^{e_v}2^{-e_s} v_i''\n",
    "\\end{align}\n",
    "$$"
   ]
  },
  {
   "cell_type": "markdown",
   "metadata": {},
   "source": [
    "## Numerical verification"
   ]
  },
  {
   "cell_type": "markdown",
   "metadata": {},
   "source": [
    "We first define the fourth order finite difference operators:"
   ]
  },
  {
   "cell_type": "code",
   "execution_count": 6,
   "metadata": {},
   "outputs": [],
   "source": [
    "import numpy as np\n",
    "import copy\n",
    "def Dp(u):\n",
    "    return 1.1382*(u[2:-2] - u[1:-3])-0.046414*(u[3:-1] - u[0:-4])\n",
    "def Dm(u):\n",
    "    return 1.1382*(u[3:-1] - u[2:-2])-0.046414*(u[4:] - u[1:-3])"
   ]
  },
  {
   "cell_type": "markdown",
   "metadata": {},
   "source": [
    "The kernel for updating the velocity is:"
   ]
  },
  {
   "cell_type": "code",
   "execution_count": 19,
   "metadata": {},
   "outputs": [],
   "source": [
    "def updatev(v, sigma, M, rho, dt):\n",
    "    v[2:-2] = v[2:-2] + dt/rho*Dp(sigma)\n",
    "    return v, sigma"
   ]
  },
  {
   "cell_type": "markdown",
   "metadata": {},
   "source": [
    "and the kernel to update the stresses is given by:"
   ]
  },
  {
   "cell_type": "code",
   "execution_count": 20,
   "metadata": {},
   "outputs": [],
   "source": [
    "def updates(v, sigma, M, rho, dt):\n",
    "    sigma[2:-2] =sigma[2:-2] + dt*M*Dm(v)\n",
    "    return v, sigma"
   ]
  },
  {
   "cell_type": "markdown",
   "metadata": {},
   "source": [
    "We then define random initial values for the velocities, the stresses and the material parameters."
   ]
  },
  {
   "cell_type": "code",
   "execution_count": 27,
   "metadata": {},
   "outputs": [],
   "source": [
    "sigma = np.zeros(100) #Stress\n",
    "v = np.zeros(100) #Velocity\n",
    "M = 1000*np.random.random(96) #P-wave modulus\n",
    "rho = 1000*np.random.random(96) #Density\n",
    "s = 10**-4*np.random.random(96) #Source for stress\n",
    "f =  10**-1*np.random.random(96) #Source for velocity\n",
    "dt = np.random.random() #Time step"
   ]
  },
  {
   "cell_type": "markdown",
   "metadata": {},
   "source": [
    "We can first propagate without any scaling for 100 steps."
   ]
  },
  {
   "cell_type": "code",
   "execution_count": 28,
   "metadata": {},
   "outputs": [],
   "source": [
    "sigma_1 = copy.copy(sigma)\n",
    "v_1 = copy.copy(v)\n",
    "sigma_1[2:-2] += s\n",
    "v_1[2:-2] += f\n",
    "for ii in range(100):\n",
    "    v_1, sigma_1 = updatev(v_1, sigma_1, M, rho, dt)\n",
    "    v_1, sigma_1 = updates(v_1, sigma_1, M, rho, dt)"
   ]
  },
  {
   "cell_type": "markdown",
   "metadata": {},
   "source": [
    "We then compute the scaling factors."
   ]
  },
  {
   "cell_type": "code",
   "execution_count": 29,
   "metadata": {},
   "outputs": [],
   "source": [
    "ev = -np.log2(np.max(M))\n",
    "es = -np.log2(np.max(s))"
   ]
  },
  {
   "cell_type": "markdown",
   "metadata": {},
   "source": [
    "We perfom the scaling."
   ]
  },
  {
   "cell_type": "code",
   "execution_count": 30,
   "metadata": {},
   "outputs": [],
   "source": [
    "Mp = 2**ev * M\n",
    "rhop = 2**ev * rho\n",
    "sp = 2**es * s\n",
    "fp = 2**-ev * 2**es * f\n",
    "sigma_2 = copy.copy(sigma)\n",
    "v_2 = copy.copy(v)"
   ]
  },
  {
   "cell_type": "markdown",
   "metadata": {},
   "source": [
    "Propagating with the scaled variables."
   ]
  },
  {
   "cell_type": "code",
   "execution_count": 31,
   "metadata": {},
   "outputs": [],
   "source": [
    "sigma_2[2:-2] += sp\n",
    "v_2[2:-2] += fp\n",
    "for ii in range(100):\n",
    "    v_2, sigma_2 = updatev(v_2, sigma_2, Mp, rhop, dt)\n",
    "    v_2, sigma_2 = updates(v_2, sigma_2, Mp, rhop, dt)"
   ]
  },
  {
   "cell_type": "markdown",
   "metadata": {},
   "source": [
    "Let's compute the difference between the unscaled equation and the scaled equation."
   ]
  },
  {
   "cell_type": "code",
   "execution_count": 32,
   "metadata": {},
   "outputs": [
    {
     "name": "stdout",
     "output_type": "stream",
     "text": [
      "7.721878362239146e-15\n",
      "7.665104868863169e-15\n"
     ]
    }
   ],
   "source": [
    "print(np.max(np.abs(sigma_1 - sigma_2 * 2**-es))/np.max(np.abs(sigma_1)))\n",
    "print(np.max(np.abs(v_1 - v_2 * 2**-es * 2**ev))/np.max(np.abs(v_1)))"
   ]
  },
  {
   "cell_type": "markdown",
   "metadata": {},
   "source": [
    "This difference is the order of the machine precision, which shows that the scaled equation leads to the same solution."
   ]
  }
 ],
 "metadata": {
  "kernelspec": {
   "display_name": "Python 3",
   "language": "python",
   "name": "python3"
  },
  "language_info": {
   "codemirror_mode": {
    "name": "ipython",
    "version": 3
   },
   "file_extension": ".py",
   "mimetype": "text/x-python",
   "name": "python",
   "nbconvert_exporter": "python",
   "pygments_lexer": "ipython3",
   "version": "3.6.3"
  }
 },
 "nbformat": 4,
 "nbformat_minor": 2
}
